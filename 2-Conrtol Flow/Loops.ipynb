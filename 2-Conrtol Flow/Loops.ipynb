{
 "cells": [
  {
   "cell_type": "code",
   "execution_count": 1,
   "id": "69512971",
   "metadata": {},
   "outputs": [
    {
     "name": "stdout",
     "output_type": "stream",
     "text": [
      "1\n",
      "2\n",
      "3\n",
      "4\n",
      "5\n",
      "6\n",
      "7\n",
      "8\n",
      "9\n",
      "10\n"
     ]
    }
   ],
   "source": [
    "# For loop\n",
    "for i in range(1,11):\n",
    "  print(i)"
   ]
  },
  {
   "cell_type": "code",
   "execution_count": 2,
   "id": "dc316008",
   "metadata": {},
   "outputs": [
    {
     "name": "stdout",
     "output_type": "stream",
     "text": [
      "1\n",
      "3\n",
      "5\n",
      "7\n",
      "9\n"
     ]
    }
   ],
   "source": [
    "# rrange function\n",
    "\n",
    "for i in range(1,11,2):\n",
    "  print(i)"
   ]
  },
  {
   "cell_type": "code",
   "execution_count": 3,
   "id": "95b984cf",
   "metadata": {},
   "outputs": [
    {
     "name": "stdout",
     "output_type": "stream",
     "text": [
      "2\n",
      "4\n",
      "6\n",
      "8\n",
      "10\n"
     ]
    }
   ],
   "source": [
    "for i in range(2,11,2):\n",
    "  print(i)"
   ]
  },
  {
   "cell_type": "code",
   "execution_count": 4,
   "id": "63e99fbd",
   "metadata": {},
   "outputs": [
    {
     "name": "stdout",
     "output_type": "stream",
     "text": [
      "10\n",
      "8\n",
      "6\n",
      "4\n",
      "2\n"
     ]
    }
   ],
   "source": [
    "for i in range(10,0,-2):\n",
    "  print(i)"
   ]
  },
  {
   "cell_type": "code",
   "execution_count": 5,
   "id": "e9e69873",
   "metadata": {},
   "outputs": [
    {
     "name": "stdout",
     "output_type": "stream",
     "text": [
      "N\n",
      "i\n",
      "l\n",
      "e\n",
      "s\n",
      "h\n"
     ]
    }
   ],
   "source": [
    "str = \"Nilesh\"\n",
    "for i in str:\n",
    "  print(i)"
   ]
  },
  {
   "cell_type": "code",
   "execution_count": 9,
   "id": "f826fbf7",
   "metadata": {},
   "outputs": [
    {
     "name": "stdout",
     "output_type": "stream",
     "text": [
      "N i l e s h "
     ]
    }
   ],
   "source": [
    "for i in str:\n",
    "  print(i, end=\" \")"
   ]
  },
  {
   "cell_type": "code",
   "execution_count": 11,
   "id": "c0fceff5",
   "metadata": {},
   "outputs": [
    {
     "name": "stdout",
     "output_type": "stream",
     "text": [
      "0\n",
      "1\n",
      "2\n",
      "3\n",
      "4\n"
     ]
    }
   ],
   "source": [
    "# While loop\n",
    "# loop executes as long as condition is true...\n",
    "count = 0\n",
    "while count<5:\n",
    "  print(count)\n",
    "  count += 1"
   ]
  },
  {
   "cell_type": "code",
   "execution_count": 12,
   "id": "6ab3c122",
   "metadata": {},
   "outputs": [
    {
     "name": "stdout",
     "output_type": "stream",
     "text": [
      "1\n",
      "2\n",
      "3\n",
      "4\n"
     ]
    }
   ],
   "source": [
    "# Loop control statements\n",
    "#break - exits the loop before the before full execution\n",
    "# break statement \n",
    "for i in range(1,10):\n",
    "  if i == 5:\n",
    "    break\n",
    "  print(i)\n",
    "        \n",
    "\n",
    "\n"
   ]
  },
  {
   "cell_type": "code",
   "execution_count": 14,
   "id": "b9f6c007",
   "metadata": {},
   "outputs": [
    {
     "name": "stdout",
     "output_type": "stream",
     "text": [
      "1\n",
      "2\n",
      "4\n",
      "5\n",
      "6\n",
      "7\n",
      "8\n",
      "9\n"
     ]
    }
   ],
   "source": [
    "# continue statement -  Skips the paricular condition \n",
    "for i in range(1,10):\n",
    "  if i == 3:\n",
    "    continue\n",
    "  print(i)\n"
   ]
  },
  {
   "cell_type": "code",
   "execution_count": 15,
   "id": "711c4dcb",
   "metadata": {},
   "outputs": [
    {
     "name": "stdout",
     "output_type": "stream",
     "text": [
      "1\n",
      "2\n",
      "3\n",
      "4\n",
      "5\n",
      "6\n",
      "7\n",
      "8\n",
      "9\n"
     ]
    }
   ],
   "source": [
    "# pass statement - do nothing....\n",
    "for i in range(1,10):\n",
    "  if i==4:\n",
    "    pass\n",
    "  print(i)\n"
   ]
  },
  {
   "cell_type": "code",
   "execution_count": 6,
   "id": "0c3d53d3",
   "metadata": {},
   "outputs": [
    {
     "name": "stdout",
     "output_type": "stream",
     "text": [
      "\n",
      "\n",
      "[(1,1)] [(1,2)] [(1,3)] [(1,4)] [(1,5)] [(1,6)] \n",
      "\n",
      "[(2,1)] [(2,2)] [(2,3)] [(2,4)] [(2,5)] [(2,6)] \n",
      "\n",
      "[(3,1)] [(3,2)] [(3,3)] [(3,4)] [(3,5)] [(3,6)] \n",
      "\n",
      "[(4,1)] [(4,2)] [(4,3)] [(4,4)] [(4,5)] [(4,6)] \n",
      "\n",
      "[(5,1)] [(5,2)] [(5,3)] [(5,4)] [(5,5)] [(5,6)] \n",
      "\n",
      "[(6,1)] [(6,2)] [(6,3)] [(6,4)] [(6,5)] [(6,6)] "
     ]
    }
   ],
   "source": [
    "# nested loops..\n",
    "for i in range(1,7):\n",
    "  print(\"\\n\")\n",
    "  for j in range(1,7):\n",
    "    print(f\"[({i},{j})]\", end=\" \")"
   ]
  },
  {
   "cell_type": "code",
   "execution_count": 23,
   "id": "b8b033f5",
   "metadata": {},
   "outputs": [
    {
     "name": "stdout",
     "output_type": "stream",
     "text": [
      "276\n"
     ]
    }
   ],
   "source": [
    "# some examples\n",
    "# sum of natural numbers using while loop\n",
    "sum = 0\n",
    "count = 1\n",
    "num = int(input(\"Enter a Number: \"))\n",
    "while count <= num:\n",
    "  # sum = sum + count\n",
    "  sum += count  \n",
    "  count = count +1\n",
    "print(sum)  \n"
   ]
  },
  {
   "cell_type": "code",
   "execution_count": 3,
   "id": "fbaf8e1c",
   "metadata": {},
   "outputs": [
    {
     "name": "stdout",
     "output_type": "stream",
     "text": [
      "55\n"
     ]
    }
   ],
   "source": [
    "num1 = 10\n",
    "count = 0\n",
    "sum = 0\n",
    "while count <= num1:\n",
    "  sum = sum + count\n",
    "  count = count + 1\n",
    "print(sum)"
   ]
  },
  {
   "cell_type": "code",
   "execution_count": 5,
   "id": "d076f515",
   "metadata": {},
   "outputs": [
    {
     "name": "stdout",
     "output_type": "stream",
     "text": [
      "34*1 = 34\n",
      "34*2 = 68\n",
      "34*3 = 102\n",
      "34*4 = 136\n",
      "34*5 = 170\n",
      "34*6 = 204\n",
      "34*7 = 238\n",
      "34*8 = 272\n",
      "34*9 = 306\n",
      "34*10 = 340\n"
     ]
    }
   ],
   "source": [
    "#print table using while loop \n",
    "num = int(input(\"Enter the number for the table: \"))\n",
    "count = 1\n",
    "while count <=10:\n",
    "  print(f\"{num}*{count} = {num*count}\")\n",
    "  count = count + 1"
   ]
  },
  {
   "cell_type": "code",
   "execution_count": 9,
   "id": "3181f552",
   "metadata": {},
   "outputs": [
    {
     "name": "stdout",
     "output_type": "stream",
     "text": [
      "2, 3, 5, 7, 11, 13, 17, 19, 23, 29, 31, 37, 41, 43, 47, 53, 59, 61, 67, 71, 73, 79, 83, 89, 97, "
     ]
    }
   ],
   "source": [
    "# Prime number between 1 and 100\n",
    "for num in range(1,100):\n",
    "  if num>1:\n",
    "    for i in range(2,num):\n",
    "      if num%i == 0:\n",
    "        break\n",
    "    else:\n",
    "      print(num, end = \", \")"
   ]
  },
  {
   "cell_type": "code",
   "execution_count": 12,
   "id": "ad36b270",
   "metadata": {},
   "outputs": [
    {
     "name": "stdout",
     "output_type": "stream",
     "text": [
      "1\n",
      "2\n",
      "3\n",
      "4\n",
      "6\n",
      "8\n",
      "12\n",
      "24\n"
     ]
    }
   ],
   "source": [
    "#Factorial code\n",
    "# factorial of 24 = 2 * 2 * 2 * 3\n",
    "fact_num = 24\n",
    "for i in range(1, fact_num + 1):\n",
    "        if fact_num % i == 0:\n",
    "            print(i)\n"
   ]
  },
  {
   "cell_type": "code",
   "execution_count": 25,
   "id": "99a4f956",
   "metadata": {},
   "outputs": [
    {
     "name": "stdout",
     "output_type": "stream",
     "text": [
      "prime factors are:  2 2 2 3 "
     ]
    }
   ],
   "source": [
    "# Prime Factors\n",
    "number = 24\n",
    "# for i in range(1, number+1):\n",
    "#   if number%i==0:\n",
    "#     flag = 0\n",
    "    # print(i)\n",
    "print(\"prime factors are: \", end=\" \")\n",
    "for i in range(2,number+1):\n",
    "  if number % i == 0:\n",
    "    while number % i ==0:\n",
    "      print( i, end= \" \")\n",
    "      number //= i\n",
    "  if number==1:\n",
    "    break\n",
    "  # print(i, end=\" \")\n",
    "  "
   ]
  },
  {
   "cell_type": "code",
   "execution_count": 21,
   "id": "716113de",
   "metadata": {},
   "outputs": [
    {
     "name": "stdout",
     "output_type": "stream",
     "text": [
      "Prime factors of 24 are: 2 2 2 3 "
     ]
    }
   ],
   "source": [
    "n = 24\n",
    "print(\"Prime factors of\", n, \"are:\", end=\" \")\n",
    "\n",
    "# Divide by 2 first\n",
    "for i in range(2, n + 1):\n",
    "    if n % i == 0:\n",
    "        while n % i == 0:\n",
    "            print(i, end=\" \")\n",
    "            n = n//i\n",
    "    if n == 1:\n",
    "        break"
   ]
  },
  {
   "cell_type": "code",
   "execution_count": 28,
   "id": "ce3bcb7c",
   "metadata": {},
   "outputs": [
    {
     "name": "stdout",
     "output_type": "stream",
     "text": [
      "Prime factors: [3, 3, 5]\n"
     ]
    }
   ],
   "source": [
    "factors = []\n",
    "n = num\n",
    "# Divide by 2 until n becomes odd\n",
    "while n % 2 == 0:\n",
    "    factors.append(2)\n",
    "    n //= 2\n",
    "\n",
    "# Try odd numbers from 3 onwards\n",
    "i = 3\n",
    "while i * i <= n:\n",
    "    while n % i == 0:\n",
    "        factors.append(i)\n",
    "        n //= i\n",
    "    i += 2\n",
    "\n",
    "# If n becomes a prime number > 2\n",
    "if n > 2:\n",
    "    factors.append(n)\n",
    "\n",
    "\n",
    "\n",
    "\n",
    "# Example usage\n",
    "num = int(input(\"Enter a number: \"))\n",
    "print(\"Prime factors:\", factors)"
   ]
  },
  {
   "cell_type": "code",
   "execution_count": null,
   "id": "dda3e66f",
   "metadata": {},
   "outputs": [],
   "source": []
  }
 ],
 "metadata": {
  "kernelspec": {
   "display_name": "venv",
   "language": "python",
   "name": "python3"
  },
  "language_info": {
   "codemirror_mode": {
    "name": "ipython",
    "version": 3
   },
   "file_extension": ".py",
   "mimetype": "text/x-python",
   "name": "python",
   "nbconvert_exporter": "python",
   "pygments_lexer": "ipython3",
   "version": "3.10.0"
  }
 },
 "nbformat": 4,
 "nbformat_minor": 5
}
