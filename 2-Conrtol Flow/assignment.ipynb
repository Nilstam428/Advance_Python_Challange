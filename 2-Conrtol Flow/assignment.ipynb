{
 "cells": [
  {
   "cell_type": "code",
   "execution_count": 5,
   "id": "418b5407",
   "metadata": {},
   "outputs": [
    {
     "name": "stdout",
     "output_type": "stream",
     "text": [
      "Wrong password...\n"
     ]
    }
   ],
   "source": [
    "# Complex Example 4: User Login System\n",
    "# A simple user login system that checks the username and password.\n",
    "\n",
    "saved_id = \"Nilesh\"\n",
    "saved_password = \"123123123\"\n",
    "\n",
    "# Take user input id and password\n",
    "user_id = input(\"Enter youur id: \")\n",
    "user_password = input(\"Enter your password: \")\n",
    "\n",
    "if user_id == saved_id:\n",
    "  if user_id == saved_password:\n",
    "    print(\"Congratulations you are welcome:\")\n",
    "  else:\n",
    "    print(\"Wrong password...\")\n",
    "else:\n",
    "  print(\"Oops wrong id...\")"
   ]
  },
  {
   "cell_type": "code",
   "execution_count": null,
   "id": "4c57e7ca",
   "metadata": {},
   "outputs": [],
   "source": [
    "# Complex Example 3: Employee Bonus Calculation\n",
    "# Calculate an employee's bonus based on their performance rating and years of service.\n",
    "# performance rating = \n",
    "# years of service = "
   ]
  }
 ],
 "metadata": {
  "kernelspec": {
   "display_name": "venv",
   "language": "python",
   "name": "python3"
  },
  "language_info": {
   "codemirror_mode": {
    "name": "ipython",
    "version": 3
   },
   "file_extension": ".py",
   "mimetype": "text/x-python",
   "name": "python",
   "nbconvert_exporter": "python",
   "pygments_lexer": "ipython3",
   "version": "3.10.0"
  }
 },
 "nbformat": 4,
 "nbformat_minor": 5
}
