{
 "cells": [
  {
   "cell_type": "markdown",
   "id": "1d4044ba",
   "metadata": {},
   "source": [
    "## Introduction to Conditional Statemeants\n",
    "- If else\n",
    "- elif\n",
    "- nested is else\n",
    "- Examples.\n"
   ]
  },
  {
   "cell_type": "code",
   "execution_count": 1,
   "id": "c3f47b1e",
   "metadata": {},
   "outputs": [
    {
     "name": "stdout",
     "output_type": "stream",
     "text": [
      "A is greater\n"
     ]
    }
   ],
   "source": [
    "a = 45 \n",
    "b = 34\n",
    "# if else statement\n",
    "if a < b:\n",
    "  print(\"B is greater\")\n",
    "else:\n",
    "  print(\"A is greater\")"
   ]
  },
  {
   "cell_type": "code",
   "execution_count": 2,
   "id": "f9076d18",
   "metadata": {},
   "outputs": [
    {
     "name": "stdout",
     "output_type": "stream",
     "text": [
      "Both are not equal to 0\n"
     ]
    }
   ],
   "source": [
    "# elif \n",
    "if a == 0:\n",
    "  print(\"A is eaual to 0\")\n",
    "elif b == 0:\n",
    "  print(\"B is equal to 0\")\n",
    "else:\n",
    "  print(\"Both are not equal to 0\")"
   ]
  },
  {
   "cell_type": "code",
   "execution_count": 3,
   "id": "2ed74f88",
   "metadata": {},
   "outputs": [
    {
     "name": "stdout",
     "output_type": "stream",
     "text": [
      "C is the gratest\n"
     ]
    }
   ],
   "source": [
    "#Nested If Else\n",
    "c = 56\n",
    "# Check for the greatest:\n",
    "if a > b:\n",
    "  if a > c:\n",
    "    print(\"A is the greates\")\n",
    "  else:\n",
    "    print(\"C is the gratest\")\n",
    "else:\n",
    "  print(\"B is the greatest\")  \n",
    "  "
   ]
  },
  {
   "cell_type": "code",
   "execution_count": null,
   "id": "8674db5c",
   "metadata": {},
   "outputs": [],
   "source": [
    "# "
   ]
  }
 ],
 "metadata": {
  "kernelspec": {
   "display_name": "venv",
   "language": "python",
   "name": "python3"
  },
  "language_info": {
   "codemirror_mode": {
    "name": "ipython",
    "version": 3
   },
   "file_extension": ".py",
   "mimetype": "text/x-python",
   "name": "python",
   "nbconvert_exporter": "python",
   "pygments_lexer": "ipython3",
   "version": "3.10.0"
  }
 },
 "nbformat": 4,
 "nbformat_minor": 5
}
