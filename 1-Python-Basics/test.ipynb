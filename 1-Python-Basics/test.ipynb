{
 "cells": [
  {
   "cell_type": "markdown",
   "id": "f71e1bcf",
   "metadata": {},
   "source": [
    "### Python Example\n"
   ]
  },
  {
   "cell_type": "code",
   "execution_count": 1,
   "id": "54dc7637",
   "metadata": {},
   "outputs": [
    {
     "data": {
      "text/plain": [
       "2"
      ]
     },
     "execution_count": 1,
     "metadata": {},
     "output_type": "execute_result"
    }
   ],
   "source": [
    "1+1"
   ]
  },
  {
   "cell_type": "code",
   "execution_count": 2,
   "id": "5c3984b1",
   "metadata": {},
   "outputs": [],
   "source": [
    "# This is single line comment"
   ]
  },
  {
   "cell_type": "code",
   "execution_count": 5,
   "id": "a4184d1c",
   "metadata": {},
   "outputs": [
    {
     "name": "stdout",
     "output_type": "stream",
     "text": [
      "This is multiple \n",
      " line Comment \n"
     ]
    }
   ],
   "source": [
    "print('''This is multiple \n",
    " line Comment ''')"
   ]
  },
  {
   "cell_type": "code",
   "execution_count": 6,
   "id": "94c2f811",
   "metadata": {},
   "outputs": [],
   "source": [
    "#Basic synatax rules in Python\n",
    "#1. Variable names must start with a letter or the underscore character\n",
    "#2. Variable names are case-sensitive\n",
    "#3. Variable names can only contain alphanumeric characters and underscores (A-z, 0-9, and _ )\n",
    "#4. Variable names cannot be any of the Python keywords"
   ]
  },
  {
   "cell_type": "markdown",
   "id": "75b4bee8",
   "metadata": {},
   "source": [
    "# Indentation"
   ]
  },
  {
   "cell_type": "code",
   "execution_count": 7,
   "id": "96c2f1a6",
   "metadata": {},
   "outputs": [
    {
     "ename": "NameError",
     "evalue": "name 'a' is not defined",
     "output_type": "error",
     "traceback": [
      "\u001b[1;31m---------------------------------------------------------------------------\u001b[0m",
      "\u001b[1;31mNameError\u001b[0m                                 Traceback (most recent call last)",
      "Cell \u001b[1;32mIn[7], line 1\u001b[0m\n\u001b[1;32m----> 1\u001b[0m \u001b[38;5;28;01mif\u001b[39;00m \u001b[43ma\u001b[49m\u001b[38;5;241m>\u001b[39m \u001b[38;5;241m3\u001b[39m:\n\u001b[0;32m      2\u001b[0m   \u001b[38;5;28mprint\u001b[39m(\u001b[38;5;124m\"\u001b[39m\u001b[38;5;124mHello\u001b[39m\u001b[38;5;124m\"\u001b[39m)\n\u001b[0;32m      3\u001b[0m \u001b[38;5;28;01melse\u001b[39;00m:\n",
      "\u001b[1;31mNameError\u001b[0m: name 'a' is not defined"
     ]
    }
   ],
   "source": [
    "if a> 3:\n",
    "  print(\"Hello\")\n",
    "else:\n",
    "  print(\"bye\")"
   ]
  },
  {
   "cell_type": "markdown",
   "id": "3fca89f9",
   "metadata": {},
   "source": [
    "# Continue Line"
   ]
  },
  {
   "cell_type": "code",
   "execution_count": null,
   "id": "68899e54",
   "metadata": {},
   "outputs": [
    {
     "name": "stdout",
     "output_type": "stream",
     "text": [
      "55\n"
     ]
    }
   ],
   "source": [
    "# Multiple line statement\n",
    "total = 1+2+3+4+5+6+\\\n",
    "7+8+9+10\n",
    "print(total)"
   ]
  },
  {
   "cell_type": "code",
   "execution_count": 13,
   "id": "e70a181d",
   "metadata": {},
   "outputs": [
    {
     "name": "stdout",
     "output_type": "stream",
     "text": [
      "5 10 15"
     ]
    }
   ],
   "source": [
    "# Multil3 statement on a single line\n",
    "x=5;y=10;z=x+y\n",
    "print(x,y,z, end=\"\")\n"
   ]
  },
  {
   "cell_type": "code",
   "execution_count": 1,
   "id": "1c47b961",
   "metadata": {},
   "outputs": [
    {
     "name": "stdout",
     "output_type": "stream",
     "text": [
      "Hello\n"
     ]
    },
    {
     "data": {
      "text/plain": [
       "'Hello'"
      ]
     },
     "metadata": {},
     "output_type": "display_data"
    }
   ],
   "source": [
    "#Understand the difference between print and display\n",
    "print(\"Hello\")\n",
    "display(\"Hello\")"
   ]
  },
  {
   "cell_type": "code",
   "execution_count": null,
   "id": "bf23b9ea",
   "metadata": {},
   "outputs": [],
   "source": [
    "#Basics of pyhton code"
   ]
  }
 ],
 "metadata": {
  "kernelspec": {
   "display_name": "venv",
   "language": "python",
   "name": "python3"
  },
  "language_info": {
   "codemirror_mode": {
    "name": "ipython",
    "version": 3
   },
   "file_extension": ".py",
   "mimetype": "text/x-python",
   "name": "python",
   "nbconvert_exporter": "python",
   "pygments_lexer": "ipython3",
   "version": "3.10.0"
  }
 },
 "nbformat": 4,
 "nbformat_minor": 5
}
