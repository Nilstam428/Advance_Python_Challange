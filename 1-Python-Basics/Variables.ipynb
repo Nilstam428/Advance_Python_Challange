{
 "cells": [
  {
   "cell_type": "markdown",
   "id": "e0df66f6",
   "metadata": {},
   "source": [
    "## Variables.\n",
    "- Introduction to variables.\n",
    "- Declaring and assigning Variables.\n",
    "- Naming Conventions.\n",
    "- Variable Types.\n",
    "- type checking and conversion.\n",
    "- dynamic typing.\n",
    "- Practical Examples and common errors."
   ]
  },
  {
   "cell_type": "code",
   "execution_count": 1,
   "id": "5fdf647b",
   "metadata": {},
   "outputs": [
    {
     "data": {
      "text/plain": [
       "100"
      ]
     },
     "execution_count": 1,
     "metadata": {},
     "output_type": "execute_result"
    }
   ],
   "source": [
    "# variables are used to store values\n",
    "# variables are containers for values\n",
    "a = 100\n",
    "a "
   ]
  },
  {
   "cell_type": "code",
   "execution_count": null,
   "id": "06fb0ccc",
   "metadata": {},
   "outputs": [
    {
     "name": "stdout",
     "output_type": "stream",
     "text": [
      "23 Nilesh Ai and Ds True\n",
      "age:  23\n",
      "age: 23, name: Nilesh, branch: Ai and Ds\n"
     ]
    }
   ],
   "source": [
    "#Declaring and assigning variables\n",
    "age = 23\n",
    "name = \"Nilesh\"\n",
    "branch = \"Ai and Ds\"\n",
    "is_student = True\n",
    "\n",
    "# various methods to print the variable\n",
    "print(age, name, branch, is_student)\n",
    "\n",
    "print(\"age: \", age)\n",
    "# also can use fstring\n",
    "\n",
    "print(f\"age: {age}, name: {name}, branch: {branch}\")"
   ]
  },
  {
   "cell_type": "code",
   "execution_count": 6,
   "id": "679ad6f9",
   "metadata": {},
   "outputs": [],
   "source": [
    "#naming rules\n",
    "#0. variable names should be descriptive \n",
    "#1. it should start with a letter or an underscore '_'\n",
    "#2. variable should not start with a number\n",
    "#3. variables can only contain alpha-numeric characters and underscores\n",
    "#4. variables names are case-sensitive\n",
    "\n",
    "#valid variable names\n",
    "first_name = \"Nilesh\"\n",
    "last_name = \"Tamboli\""
   ]
  },
  {
   "cell_type": "code",
   "execution_count": null,
   "id": "40f5de3b",
   "metadata": {},
   "outputs": [],
   "source": [
    "# PYthon is dynamically typed, type of variable is determined at runtime\n",
    "# #Types of varibles \n",
    "int\n",
    "float\n",
    "str\n",
    "\n",
    "bool"
   ]
  },
  {
   "cell_type": "code",
   "execution_count": null,
   "id": "a9947bfc",
   "metadata": {},
   "outputs": [],
   "source": [
    "# Type checking and Conversion\n",
    "\n",
    "# int -> float\n",
    "# float -> int \n",
    "# int -> str\n",
    "# et\n",
    "\n"
   ]
  },
  {
   "cell_type": "code",
   "execution_count": 9,
   "id": "3635930c",
   "metadata": {},
   "outputs": [
    {
     "name": "stdout",
     "output_type": "stream",
     "text": [
      "10 <class 'int'>\n",
      "3.12 <class 'float'>\n"
     ]
    }
   ],
   "source": [
    "# $Dynamic Typing \n",
    "# updating of data type of the variable in the same code.\n",
    "# No need to mention the type of the vaiable python automatically detects the  type\n",
    "\n",
    "var = 10 #int\n",
    "print(var, type(var))\n",
    "\n",
    "var = 3.12\n",
    "print(var, type(var))"
   ]
  },
  {
   "cell_type": "markdown",
   "id": "9bec812a",
   "metadata": {},
   "source": [
    "### Examples and common errors.\n"
   ]
  },
  {
   "cell_type": "code",
   "execution_count": 12,
   "id": "0e32d5a0",
   "metadata": {},
   "outputs": [
    {
     "name": "stdout",
     "output_type": "stream",
     "text": [
      "23 <class 'str'>\n",
      "23 <class 'int'>\n"
     ]
    }
   ],
   "source": [
    "# By Default type of input is string\n",
    "age = input(\"Enter your age: \")\n",
    "print(age, type(age))\n",
    "\n",
    "age = int(age)\n",
    "print(age, type(age))"
   ]
  },
  {
   "cell_type": "markdown",
   "id": "b97474e5",
   "metadata": {},
   "source": [
    "\n",
    "\n"
   ]
  }
 ],
 "metadata": {
  "kernelspec": {
   "display_name": "venv",
   "language": "python",
   "name": "python3"
  },
  "language_info": {
   "codemirror_mode": {
    "name": "ipython",
    "version": 3
   },
   "file_extension": ".py",
   "mimetype": "text/x-python",
   "name": "python",
   "nbconvert_exporter": "python",
   "pygments_lexer": "ipython3",
   "version": "3.10.0"
  }
 },
 "nbformat": 4,
 "nbformat_minor": 5
}
