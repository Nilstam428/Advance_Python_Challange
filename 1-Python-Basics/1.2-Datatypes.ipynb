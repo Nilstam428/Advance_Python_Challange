{
 "cells": [
  {
   "cell_type": "markdown",
   "id": "31ca2be5",
   "metadata": {},
   "source": [
    "## Datatypes\n",
    "\n",
    "- data types are a classification of data which tell the compiler or interpreter how the the programmer will use the data."
   ]
  },
  {
   "cell_type": "markdown",
   "id": "9fff397c",
   "metadata": {},
   "source": [
    "- integers\n",
    "- floating \n",
    "- string \n",
    "- boolean\n",
    "### Advanced data types\n",
    "+ Boolean\n",
    "+ Tuples\n",
    "+ Sets\n",
    "+ Dictionaries"
   ]
  },
  {
   "cell_type": "markdown",
   "id": "a86c6ff9",
   "metadata": {},
   "source": [
    "## Type conversion\n",
    "## Practical Examples"
   ]
  },
  {
   "cell_type": "code",
   "execution_count": 1,
   "id": "dca92835",
   "metadata": {},
   "outputs": [
    {
     "name": "stdout",
     "output_type": "stream",
     "text": [
      "23\n"
     ]
    }
   ],
   "source": [
    " # Integer\n",
    "age = 23\n",
    "print(age)"
   ]
  },
  {
   "cell_type": "code",
   "execution_count": 2,
   "id": "0306abfa",
   "metadata": {},
   "outputs": [
    {
     "name": "stdout",
     "output_type": "stream",
     "text": [
      "180.5\n"
     ]
    }
   ],
   "source": [
    "height = 180.5\n",
    "print(height)\n"
   ]
  },
  {
   "cell_type": "code",
   "execution_count": 6,
   "id": "bbdd1bfa",
   "metadata": {},
   "outputs": [
    {
     "name": "stdout",
     "output_type": "stream",
     "text": [
      "Nilesh\n"
     ]
    }
   ],
   "source": [
    "\n",
    "# string data type\n",
    "name = \"Nilesh\"\n",
    "print(name)\n"
   ]
  },
  {
   "cell_type": "code",
   "execution_count": 7,
   "id": "fe0e1df1",
   "metadata": {},
   "outputs": [
    {
     "name": "stdout",
     "output_type": "stream",
     "text": [
      "True\n"
     ]
    },
    {
     "data": {
      "text/plain": [
       "bool"
      ]
     },
     "execution_count": 7,
     "metadata": {},
     "output_type": "execute_result"
    }
   ],
   "source": [
    "is_true = True\n",
    "print(is_true)\n",
    "type(is_true)"
   ]
  },
  {
   "cell_type": "code",
   "execution_count": 8,
   "id": "72816e06",
   "metadata": {},
   "outputs": [
    {
     "ename": "TypeError",
     "evalue": "unsupported operand type(s) for +: 'int' and 'str'",
     "output_type": "error",
     "traceback": [
      "\u001b[1;31m---------------------------------------------------------------------------\u001b[0m",
      "\u001b[1;31mTypeError\u001b[0m                                 Traceback (most recent call last)",
      "Cell \u001b[1;32mIn[8], line 2\u001b[0m\n\u001b[0;32m      1\u001b[0m \u001b[38;5;66;03m# Common Errors\u001b[39;00m\n\u001b[1;32m----> 2\u001b[0m result \u001b[38;5;241m=\u001b[39m \u001b[38;5;241;43m10\u001b[39;49m\u001b[43m \u001b[49m\u001b[38;5;241;43m+\u001b[39;49m\u001b[43m \u001b[49m\u001b[38;5;124;43m\"\u001b[39;49m\u001b[38;5;124;43m20\u001b[39;49m\u001b[38;5;124;43m\"\u001b[39;49m\n",
      "\u001b[1;31mTypeError\u001b[0m: unsupported operand type(s) for +: 'int' and 'str'"
     ]
    }
   ],
   "source": [
    "# Common Errors\n",
    "result = 10 + \"20\""
   ]
  },
  {
   "cell_type": "code",
   "execution_count": 9,
   "id": "1681c3eb",
   "metadata": {},
   "outputs": [
    {
     "data": {
      "text/plain": [
       "30"
      ]
     },
     "execution_count": 9,
     "metadata": {},
     "output_type": "execute_result"
    }
   ],
   "source": [
    "result=  10 + int(\"20\")\n",
    "result"
   ]
  },
  {
   "cell_type": "code",
   "execution_count": null,
   "id": "983e299c",
   "metadata": {},
   "outputs": [],
   "source": []
  }
 ],
 "metadata": {
  "kernelspec": {
   "display_name": "venv",
   "language": "python",
   "name": "python3"
  },
  "language_info": {
   "codemirror_mode": {
    "name": "ipython",
    "version": 3
   },
   "file_extension": ".py",
   "mimetype": "text/x-python",
   "name": "python",
   "nbconvert_exporter": "python",
   "pygments_lexer": "ipython3",
   "version": "3.10.0"
  }
 },
 "nbformat": 4,
 "nbformat_minor": 5
}
